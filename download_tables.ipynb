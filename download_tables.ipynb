{
 "cells": [
  {
   "cell_type": "code",
   "execution_count": null,
   "metadata": {},
   "outputs": [],
   "source": [
    "import os\n",
    "import wandb\n",
    "from pathlib import Path\n",
    "\n",
    "api_key = os.environ.get(\"WANDB_API_KEY\")\n",
    "if not api_key:\n",
    "    raise ValueError(\"WANDB_API_KEY environment variable is not set\")\n",
    "\n",
    "entity = \"geniac-gpu\"\n",
    "project_name = \"gpu-dashboard2-dev\"\n",
    "base_download_dir = \"wandb_artifacts\"\n",
    "\n",
    "with wandb.init(project=project_name, entity=entity, job_type=\"download\", name=\"Download Tables\") as run:\n",
    "    api = wandb.Api()\n",
    "    runs = api.runs(f\"{entity}/{project_name}\")\n",
    "    latest_runs = [run for run in runs if 'latest' in run.tags]\n",
    "\n",
    "    for latest_run in latest_runs:\n",
    "        artifacts = latest_run.logged_artifacts()\n",
    "        \n",
    "        for artifact in artifacts:\n",
    "            artifact_name = artifact.name\n",
    "            artifact_version = artifact.version\n",
    "            \n",
    "            download_dir = Path(base_download_dir) / latest_run.name / artifact_name\n",
    "            download_dir.mkdir(parents=True, exist_ok=True)\n",
    "            \n",
    "            artifact_dir = artifact.download(root=str(download_dir))\n",
    "            \n",
    "            print(f\"Downloaded artifact: {artifact_name} (version: {artifact_version}) for run: {latest_run.name}\")\n",
    "            print(f\"Saved to: {artifact_dir}\")\n",
    "\n",
    "print(\"All artifacts have been downloaded.\")"
   ]
  }
 ],
 "metadata": {
  "kernelspec": {
   "display_name": ".venv",
   "language": "python",
   "name": "python3"
  },
  "language_info": {
   "codemirror_mode": {
    "name": "ipython",
    "version": 3
   },
   "file_extension": ".py",
   "mimetype": "text/x-python",
   "name": "python",
   "nbconvert_exporter": "python",
   "pygments_lexer": "ipython3",
   "version": "3.10.13"
  }
 },
 "nbformat": 4,
 "nbformat_minor": 2
}
