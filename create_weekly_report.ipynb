{
 "cells": [
  {
   "cell_type": "code",
   "execution_count": 1,
   "metadata": {},
   "outputs": [],
   "source": [
    "import pandas as pd\n",
    "import datetime as dt\n",
    "from typing import List\n",
    "import os\n",
    "import traceback"
   ]
  },
  {
   "cell_type": "code",
   "execution_count": 10,
   "metadata": {},
   "outputs": [],
   "source": [
    "def generate_summary_csv(input_file: str, output_directory: str, target_date: str, ignore_tags: List[str]):\n",
    "    if not os.path.exists(input_file):\n",
    "        print(f\"Input file not found: {input_file}\")\n",
    "        return\n",
    "\n",
    "    if not os.path.exists(output_directory):\n",
    "        os.makedirs(output_directory)\n",
    "\n",
    "    try:\n",
    "        df = pd.read_csv(input_file, parse_dates=['date', 'created_at', 'updated_at', 'logged_at'])\n",
    "        \n",
    "        target_date = pd.to_datetime(target_date)\n",
    "        start_date = target_date - dt.timedelta(days=(target_date.weekday() + 7))\n",
    "        end_date = start_date + dt.timedelta(days=7)\n",
    "        \n",
    "        print(f\"Analyzing data from {start_date.date()} to {end_date.date()}\")\n",
    "        \n",
    "        # フォルダを作成\n",
    "        end_date_folder = os.path.join(output_directory, str(end_date.date()))\n",
    "        os.makedirs(end_date_folder, exist_ok=True)\n",
    "        \n",
    "        df_filtered = df[(df['date'] >= start_date) & (df['date'] < end_date)]\n",
    "        \n",
    "        for team_name, team_df in df_filtered.groupby('company_name'):\n",
    "            # gpu_countを考慮したTotal hoursの計算\n",
    "            team_df['weighted_duration'] = team_df['duration_hour'] * team_df['gpu_count']\n",
    "            summary = team_df.groupby('project').agg({\n",
    "                'weighted_duration': 'sum',\n",
    "                'run_id': 'nunique'\n",
    "            }).reset_index()\n",
    "            \n",
    "            summary.columns = ['project', 'Total hours', 'Total runs']\n",
    "\n",
    "            # master nodeの計算\n",
    "            master_node_df = team_df[team_df['gpu_count'] >= 9]\n",
    "            master_node_counts = master_node_df.groupby('project')['run_id'].nunique().reset_index(name='master_node_runs')\n",
    "            \n",
    "            # オーバーラップの計算\n",
    "            team_df_sorted = team_df.sort_values(['project', 'host_name', 'created_at'])\n",
    "            team_df_sorted['prev_updated_at'] = team_df_sorted.groupby(['project', 'host_name'])['updated_at'].shift()\n",
    "            overlap_df = team_df_sorted[team_df_sorted['created_at'] < team_df_sorted['prev_updated_at']]\n",
    "            overlaps = overlap_df.groupby('project')['run_id'].nunique().reset_index(name='overlap_runs')\n",
    "            \n",
    "            # ignore_tagの計算\n",
    "            team_df['has_ignore_tag'] = team_df['tags'].apply(lambda x: any(tag.strip('[]\"\\'') in ignore_tags for tag in eval(x)))\n",
    "            ignore_df = team_df[team_df['has_ignore_tag']]\n",
    "            ignore_tag_counts = ignore_df.groupby('project')['run_id'].nunique().reset_index(name='ignore_runs')\n",
    "            \n",
    "            # 結果のマージ\n",
    "            result = summary.merge(master_node_counts, on='project', how='left')\\\n",
    "                            .merge(overlaps, on='project', how='left')\\\n",
    "                            .merge(ignore_tag_counts, on='project', how='left')\n",
    "            result = result.fillna(0)\n",
    "\n",
    "            # 整数型に変換\n",
    "            for col in ['Total runs', 'master_node_runs', 'overlap_runs', 'ignore_runs']:\n",
    "                if col in result.columns:\n",
    "                    result[col] = result[col].astype(int)\n",
    "            \n",
    "            output_file = os.path.join(end_date_folder, f\"{team_name}_{end_date.date()}.csv\")\n",
    "            result.to_csv(output_file, index=False)\n",
    "            print(f\"Summary CSV generated for {team_name}: {output_file}\")\n",
    "\n",
    "    except Exception as e:\n",
    "        print(f\"An error occurred: {str(e)}\")\n",
    "        print(traceback.format_exc())"
   ]
  },
  {
   "cell_type": "code",
   "execution_count": 26,
   "metadata": {},
   "outputs": [
    {
     "name": "stdout",
     "output_type": "stream",
     "text": [
      "Analyzing data from 2024-08-19 to 2024-08-26\n",
      "Summary CSV generated for nii-geniac: dev/weekly_report/2024-08-26/nii-geniac_2024-08-26.csv\n"
     ]
    }
   ],
   "source": [
    "ignore_tags = [\"other_gpu\", \"others_gpu\"]\n",
    "generate_summary_csv(\"dev/new_runs_df.csv\", \"dev/weekly_report/\", \"2024-08-29\", ignore_tags)"
   ]
  },
  {
   "cell_type": "code",
   "execution_count": 17,
   "metadata": {},
   "outputs": [
    {
     "name": "stdout",
     "output_type": "stream",
     "text": [
      "会社名ごとの出現回数:\n",
      "company_name\n",
      "abeja-geniac        6551\n",
      "stockmark-geniac    4892\n",
      "fujitsu-geniac      3530\n",
      "turing-geniac       2717\n",
      "nii-geniac           868\n",
      "kotoba-geniac        537\n",
      "elyza-geniac         478\n",
      "sakanaai-geniac        2\n",
      "Name: count, dtype: int64\n",
      "\n",
      "合計会社数: 19575\n"
     ]
    }
   ],
   "source": [
    "import pandas as pd\n",
    "\n",
    "# CSVファイルを読み込む\n",
    "df = pd.read_csv('dev/processed_df.csv')\n",
    "\n",
    "# company_name列の種類ごとにカウント\n",
    "company_counts = df['company_name'].value_counts()\n",
    "\n",
    "# 結果を表示\n",
    "print(\"会社名ごとの出現回数:\")\n",
    "print(company_counts)\n",
    "\n",
    "# 合計数も表示\n",
    "total_count = company_counts.sum()\n",
    "print(f\"\\n合計会社数: {total_count}\")"
   ]
  }
 ],
 "metadata": {
  "kernelspec": {
   "display_name": ".venv",
   "language": "python",
   "name": "python3"
  },
  "language_info": {
   "codemirror_mode": {
    "name": "ipython",
    "version": 3
   },
   "file_extension": ".py",
   "mimetype": "text/x-python",
   "name": "python",
   "nbconvert_exporter": "python",
   "pygments_lexer": "ipython3",
   "version": "3.10.13"
  }
 },
 "nbformat": 4,
 "nbformat_minor": 2
}
